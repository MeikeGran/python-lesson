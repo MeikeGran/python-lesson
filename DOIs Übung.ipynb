{
 "cells": [
  {
   "cell_type": "code",
   "execution_count": 1,
   "metadata": {},
   "outputs": [
    {
     "ename": "NameError",
     "evalue": "name 'urllib' is not defined",
     "output_type": "error",
     "traceback": [
      "\u001b[0;31m---------------------------------------------------------------------------\u001b[0m",
      "\u001b[0;31mNameError\u001b[0m                                 Traceback (most recent call last)",
      "\u001b[0;32m<ipython-input-1-115e40f2ef8c>\u001b[0m in \u001b[0;36m<module>\u001b[0;34m\u001b[0m\n\u001b[1;32m      6\u001b[0m         \"10.21105/joss.01006\"]:\n\u001b[1;32m      7\u001b[0m     \u001b[0mfull_url\u001b[0m \u001b[0;34m=\u001b[0m \u001b[0mbase_url\u001b[0m \u001b[0;34m+\u001b[0m \u001b[0mdoi\u001b[0m\u001b[0;34m\u001b[0m\u001b[0;34m\u001b[0m\u001b[0m\n\u001b[0;32m----> 8\u001b[0;31m     \u001b[0mdoi_json_data\u001b[0m \u001b[0;34m=\u001b[0m \u001b[0murllib\u001b[0m\u001b[0;34m.\u001b[0m\u001b[0mrequest\u001b[0m\u001b[0;34m.\u001b[0m\u001b[0murlopen\u001b[0m\u001b[0;34m(\u001b[0m\u001b[0mfull_url\u001b[0m\u001b[0;34m)\u001b[0m\u001b[0;34m.\u001b[0m\u001b[0mread\u001b[0m\u001b[0;34m(\u001b[0m\u001b[0;34m)\u001b[0m\u001b[0;34m\u001b[0m\u001b[0;34m\u001b[0m\u001b[0m\n\u001b[0m\u001b[1;32m      9\u001b[0m     \u001b[0mdoi_data\u001b[0m \u001b[0;34m=\u001b[0m \u001b[0mjson\u001b[0m\u001b[0;34m.\u001b[0m\u001b[0mloads\u001b[0m\u001b[0;34m(\u001b[0m\u001b[0mdoi_json_data\u001b[0m\u001b[0;34m)\u001b[0m\u001b[0;34m\u001b[0m\u001b[0;34m\u001b[0m\u001b[0m\n\u001b[1;32m     10\u001b[0m     \u001b[0mprint\u001b[0m\u001b[0;34m(\u001b[0m\u001b[0mstr\u001b[0m\u001b[0;34m(\u001b[0m\u001b[0manzahl\u001b[0m\u001b[0;34m)\u001b[0m \u001b[0;34m+\u001b[0m \u001b[0;34m\".\"\u001b[0m\u001b[0;34m)\u001b[0m\u001b[0;34m\u001b[0m\u001b[0;34m\u001b[0m\u001b[0m\n",
      "\u001b[0;31mNameError\u001b[0m: name 'urllib' is not defined"
     ]
    }
   ],
   "source": [
    "base_url = \"https://api.crossref.org/works/\"\n",
    "anzahl = 1\n",
    "for doi in [\"10.1371/journal.pcbi.1004668\",\n",
    "        \"10.21105/joss.01035\",\n",
    "        \"10.1038/35057062\",\n",
    "        \"10.21105/joss.01006\"]:\n",
    "    full_url = base_url + doi\n",
    "    doi_json_data = urllib.request.urlopen(full_url).read()\n",
    "    doi_data = json.loads(doi_json_data)\n",
    "    print(str(anzahl) + \".\")\n",
    "    print(\"Infos von: \" + doi)\n",
    "    print(\"Short-container-title: \" + doi_data[\"message\"][\"short-container-title\"][0])\n",
    "    print(\"Title: \"+ doi_data[\"message\"][\"title\"][0])\n",
    "    anzahl = anzahl +1"
   ]
  },
  {
   "cell_type": "code",
   "execution_count": 2,
   "metadata": {},
   "outputs": [],
   "source": [
    "import urllib.request\n",
    "import json"
   ]
  },
  {
   "cell_type": "code",
   "execution_count": 3,
   "metadata": {},
   "outputs": [
    {
     "name": "stdout",
     "output_type": "stream",
     "text": [
      "1.\n",
      "Infos von: 10.1371/journal.pcbi.1004668\n",
      "Short-container-title: PLoS Comput Biol\n",
      "Title: A Quick Introduction to Version Control with Git and GitHub\n",
      "2.\n",
      "Infos von: 10.21105/joss.01035\n",
      "Short-container-title: JOSS\n",
      "Title: nasapower: A NASA POWER Global Meteorology, Surface Solar Energy and Climatology Data Client for R\n",
      "3.\n",
      "Infos von: 10.1038/35057062\n",
      "Short-container-title: Nature\n",
      "Title: Initial sequencing and analysis of the human genome\n",
      "4.\n",
      "Infos von: 10.21105/joss.01006\n",
      "Short-container-title: JOSS\n",
      "Title: SeqTools: A python package for easy transformation, combination and evaluation of large datasets.\n"
     ]
    }
   ],
   "source": [
    "base_url = \"https://api.crossref.org/works/\"\n",
    "anzahl = 1\n",
    "for doi in [\"10.1371/journal.pcbi.1004668\",\n",
    "        \"10.21105/joss.01035\",\n",
    "        \"10.1038/35057062\",\n",
    "        \"10.21105/joss.01006\"]:\n",
    "    full_url = base_url + doi\n",
    "    doi_json_data = urllib.request.urlopen(full_url).read()\n",
    "    doi_data = json.loads(doi_json_data)\n",
    "    print(str(anzahl) + \".\")\n",
    "    print(\"Infos von: \" + doi)\n",
    "    print(\"Short-container-title: \" + doi_data[\"message\"][\"short-container-title\"][0])\n",
    "    print(\"Title: \"+ doi_data[\"message\"][\"title\"][0])\n",
    "    anzahl = anzahl +1"
   ]
  },
  {
   "cell_type": "code",
   "execution_count": 4,
   "metadata": {},
   "outputs": [
    {
     "name": "stdout",
     "output_type": "stream",
     "text": [
      "1.\n",
      "Infos von: 10.1371/journal.pcbi.1004668\n",
      "Short-container-title: PLoS Comput Biol\n",
      "Title: A Quick Introduction to Version Control with Git and GitHub\n",
      "1.\n",
      "Infos von: 10.21105/joss.01035\n",
      "Short-container-title: JOSS\n",
      "Title: nasapower: A NASA POWER Global Meteorology, Surface Solar Energy and Climatology Data Client for R\n",
      "1.\n",
      "Infos von: 10.1038/35057062\n",
      "Short-container-title: Nature\n",
      "Title: Initial sequencing and analysis of the human genome\n",
      "1.\n",
      "Infos von: 10.21105/joss.01006\n",
      "Short-container-title: JOSS\n",
      "Title: SeqTools: A python package for easy transformation, combination and evaluation of large datasets.\n"
     ]
    }
   ],
   "source": [
    "base_url = \"https://api.crossref.org/works/\"\n",
    "anzahl = 1\n",
    "for doi in [\"10.1371/journal.pcbi.1004668\",\n",
    "        \"10.21105/joss.01035\",\n",
    "        \"10.1038/35057062\",\n",
    "        \"10.21105/joss.01006\"]:\n",
    "    full_url = base_url + doi\n",
    "    doi_json_data = urllib.request.urlopen(full_url).read()\n",
    "    doi_data = json.loads(doi_json_data)\n",
    "    print(str(anzahl) + \".\")\n",
    "    print(\"Infos von: \" + doi)\n",
    "    print(\"Short-container-title: \" + doi_data[\"message\"][\"short-container-title\"][0])\n",
    "    print(\"Title: \"+ doi_data[\"message\"][\"title\"][0])"
   ]
  },
  {
   "cell_type": "code",
   "execution_count": null,
   "metadata": {},
   "outputs": [],
   "source": []
  }
 ],
 "metadata": {
  "kernelspec": {
   "display_name": "Python 3",
   "language": "python",
   "name": "python3"
  },
  "language_info": {
   "codemirror_mode": {
    "name": "ipython",
    "version": 3
   },
   "file_extension": ".py",
   "mimetype": "text/x-python",
   "name": "python",
   "nbconvert_exporter": "python",
   "pygments_lexer": "ipython3",
   "version": "3.8.3"
  }
 },
 "nbformat": 4,
 "nbformat_minor": 4
}
