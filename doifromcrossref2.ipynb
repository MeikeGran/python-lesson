{
 "cells": [
  {
   "cell_type": "code",
   "execution_count": 1,
   "metadata": {},
   "outputs": [],
   "source": [
    "import urllib.request\n",
    "import json"
   ]
  },
  {
   "cell_type": "code",
   "execution_count": 2,
   "metadata": {},
   "outputs": [],
   "source": [
    "base_url = \"https://api.crossref.org/works/\" "
   ]
  },
  {
   "cell_type": "code",
   "execution_count": 3,
   "metadata": {},
   "outputs": [],
   "source": [
    "dois = [\"10.1371/journal.pcbi.1004668\", \n",
    "\"10.21105/joss.01035\", \n",
    "\"10.1038/35057062\", \n",
    "\"10.21105/joss.01006\"]"
   ]
  },
  {
   "cell_type": "code",
   "execution_count": 4,
   "metadata": {},
   "outputs": [],
   "source": [
    "for doi in dois:\n",
    "    full_url = base_url + doi"
   ]
  },
  {
   "cell_type": "code",
   "execution_count": 5,
   "metadata": {},
   "outputs": [],
   "source": [
    "doi_json_data = urllib.request.urlopen(full_url).read()"
   ]
  },
  {
   "cell_type": "code",
   "execution_count": 6,
   "metadata": {},
   "outputs": [
    {
     "name": "stdout",
     "output_type": "stream",
     "text": [
      "b'{\"status\":\"ok\",\"message-type\":\"work\",\"message-version\":\"1.0.0\",\"message\":{\"indexed\":{\"date-parts\":[[2020,8,1]],\"date-time\":\"2020-08-01T02:45:38Z\",\"timestamp\":1596249938548},\"reference-count\":2,\"publisher\":\"The Open Journal\",\"issue\":\"30\",\"license\":[{\"URL\":\"http:\\\\/\\\\/creativecommons.org\\\\/licenses\\\\/by\\\\/4.0\\\\/\",\"start\":{\"date-parts\":[[2018,10,26]],\"date-time\":\"2018-10-26T00:00:00Z\",\"timestamp\":1540512000000},\"delay-in-days\":0,\"content-version\":\"vor\"},{\"URL\":\"http:\\\\/\\\\/creativecommons.org\\\\/licenses\\\\/by\\\\/4.0\\\\/\",\"start\":{\"date-parts\":[[2018,10,26]],\"date-time\":\"2018-10-26T00:00:00Z\",\"timestamp\":1540512000000},\"delay-in-days\":0,\"content-version\":\"am\"},{\"URL\":\"http:\\\\/\\\\/creativecommons.org\\\\/licenses\\\\/by\\\\/4.0\\\\/\",\"start\":{\"date-parts\":[[2018,10,26]],\"date-time\":\"2018-10-26T00:00:00Z\",\"timestamp\":1540512000000},\"delay-in-days\":0,\"content-version\":\"tdm\"}],\"content-domain\":{\"domain\":[],\"crossmark-restriction\":false},\"short-container-title\":[\"JOSS\"],\"published-print\":{\"date-parts\":[[2018,10,26]]},\"DOI\":\"10.21105\\\\/joss.01006\",\"type\":\"journal-article\",\"created\":{\"date-parts\":[[2018,10,26]],\"date-time\":\"2018-10-26T20:04:42Z\",\"timestamp\":1540584282000},\"page\":\"1006\",\"source\":\"Crossref\",\"is-referenced-by-count\":0,\"title\":[\"SeqTools: A python package for easy transformation, combination and evaluation of large datasets.\"],\"prefix\":\"10.21105\",\"volume\":\"3\",\"author\":[{\"ORCID\":\"http:\\\\/\\\\/orcid.org\\\\/0000-0003-2943-9888\",\"authenticated-orcid\":false,\"given\":\"Nicolas\",\"family\":\"Granger\",\"sequence\":\"first\",\"affiliation\":[]},{\"ORCID\":\"http:\\\\/\\\\/orcid.org\\\\/0000-0002-7383-0588\",\"authenticated-orcid\":false,\"given\":\"Moun\\\\u00eem\",\"family\":\"Yacoubi\",\"sequence\":\"additional\",\"affiliation\":[]}],\"member\":\"8722\",\"reference\":[{\"key\":\"ref1\",\"unstructured\":\"TensorFlow: Large-Scale Machine Learning on Heterogeneous Systems, https:\\\\/\\\\/www.tensorflow.org\\\\/, Software available from tensorflow.org, Mart\\\\u0131\\\\u0301n\\\\u00a0Abadi and Ashish\\\\u00a0Agarwal and Paul\\\\u00a0Barham and Eugene\\\\u00a0Brevdo and Zhifeng\\\\u00a0Chen and Craig\\\\u00a0Citro and Greg\\\\u00a0S.\\\\u00a0Corrado and Andy\\\\u00a0Davis and Jeffrey\\\\u00a0Dean and Matthieu\\\\u00a0Devin and Sanjay\\\\u00a0Ghemawat and Ian\\\\u00a0Goodfellow and Andrew\\\\u00a0Harp and Geoffrey\\\\u00a0Irving and Michael\\\\u00a0Isard and Jia, Yangqing and Rafal\\\\u00a0Jozefowicz and Lukasz\\\\u00a0Kaiser and Manjunath\\\\u00a0Kudlur and Josh\\\\u00a0Levenberg and Dandelion\\\\u00a0Man\\\\u00e9 and Rajat\\\\u00a0Monga and Sherry\\\\u00a0Moore and Derek\\\\u00a0Murray and Chris\\\\u00a0Olah and Mike\\\\u00a0Schuster and Jonathon\\\\u00a0Shlens and Benoit\\\\u00a0Steiner and Ilya\\\\u00a0Sutskever and Kunal\\\\u00a0Talwar and Paul\\\\u00a0Tucker and Vincent\\\\u00a0Vanhoucke and Vijay\\\\u00a0Vasudevan and Fernanda\\\\u00a0Vi\\\\u00e9gas and Oriol\\\\u00a0Vinyals and Pete\\\\u00a0Warden and Martin\\\\u00a0Wattenberg and Martin\\\\u00a0Wicke and Yuan\\\\u00a0Yu and Xiaoqiang\\\\u00a0Zheng, 2015\"},{\"key\":\"ref2\",\"unstructured\":\"Automatic differentiation in PyTorch, Paszke, Adam and Gross, Sam and Chintala, Soumith and Chanan, Gregory and Yang, Edward and DeVito, Zachary and Lin, Zeming and Desmaison, Alban and Antiga, Luca and Lerer, Adam, NIPS-W, 2017\"}],\"container-title\":[\"Journal of Open Source Software\"],\"original-title\":[],\"link\":[{\"URL\":\"http:\\\\/\\\\/www.theoj.org\\\\/joss-papers\\\\/joss.01006\\\\/10.21105.joss.01006.pdf\",\"content-type\":\"application\\\\/pdf\",\"content-version\":\"vor\",\"intended-application\":\"text-mining\"}],\"deposited\":{\"date-parts\":[[2019,11,17]],\"date-time\":\"2019-11-17T20:11:23Z\",\"timestamp\":1574021483000},\"score\":1.0,\"subtitle\":[],\"short-title\":[],\"issued\":{\"date-parts\":[[2018,10,26]]},\"references-count\":2,\"journal-issue\":{\"published-online\":{\"date-parts\":[[2018,10]]},\"issue\":\"30\"},\"alternative-id\":[\"10.21105\\\\/joss.01006\"],\"URL\":\"http:\\\\/\\\\/dx.doi.org\\\\/10.21105\\\\/joss.01006\",\"relation\":{\"references\":[{\"id-type\":\"doi\",\"id\":\"https:\\\\/\\\\/doi.org\\\\/10.5281\\\\/zenodo.1472094\",\"asserted-by\":\"subject\"}],\"has-review\":[{\"id-type\":\"uri\",\"id\":\"https:\\\\/\\\\/github.com\\\\/openjournals\\\\/joss-reviews\\\\/issues\\\\/1006\",\"asserted-by\":\"subject\"}],\"cites\":[]},\"ISSN\":[\"2475-9066\"],\"issn-type\":[{\"value\":\"2475-9066\",\"type\":\"electronic\"}]}}'\n"
     ]
    }
   ],
   "source": [
    "print(doi_json_data)"
   ]
  },
  {
   "cell_type": "code",
   "execution_count": 7,
   "metadata": {},
   "outputs": [],
   "source": [
    "doi_data = json.loads(doi_json_data)"
   ]
  },
  {
   "cell_type": "code",
   "execution_count": 8,
   "metadata": {},
   "outputs": [
    {
     "data": {
      "text/plain": [
       "dict_keys(['status', 'message-type', 'message-version', 'message'])"
      ]
     },
     "execution_count": 8,
     "metadata": {},
     "output_type": "execute_result"
    }
   ],
   "source": [
    "doi_data.keys()"
   ]
  },
  {
   "cell_type": "code",
   "execution_count": 9,
   "metadata": {},
   "outputs": [
    {
     "data": {
      "text/plain": [
       "dict_keys(['indexed', 'reference-count', 'publisher', 'issue', 'license', 'content-domain', 'short-container-title', 'published-print', 'DOI', 'type', 'created', 'page', 'source', 'is-referenced-by-count', 'title', 'prefix', 'volume', 'author', 'member', 'reference', 'container-title', 'original-title', 'link', 'deposited', 'score', 'subtitle', 'short-title', 'issued', 'references-count', 'journal-issue', 'alternative-id', 'URL', 'relation', 'ISSN', 'issn-type'])"
      ]
     },
     "execution_count": 9,
     "metadata": {},
     "output_type": "execute_result"
    }
   ],
   "source": [
    "doi_data[\"message\"].keys()"
   ]
  },
  {
   "cell_type": "code",
   "execution_count": 10,
   "metadata": {},
   "outputs": [],
   "source": [
    "for doi in dois:\n",
    "    oi_json_data = urllib.request.urlopen(full_url).read()"
   ]
  },
  {
   "cell_type": "code",
   "execution_count": 11,
   "metadata": {},
   "outputs": [
    {
     "name": "stdout",
     "output_type": "stream",
     "text": [
      "b'{\"status\":\"ok\",\"message-type\":\"work\",\"message-version\":\"1.0.0\",\"message\":{\"indexed\":{\"date-parts\":[[2020,8,1]],\"date-time\":\"2020-08-01T02:45:38Z\",\"timestamp\":1596249938548},\"reference-count\":2,\"publisher\":\"The Open Journal\",\"issue\":\"30\",\"license\":[{\"URL\":\"http:\\\\/\\\\/creativecommons.org\\\\/licenses\\\\/by\\\\/4.0\\\\/\",\"start\":{\"date-parts\":[[2018,10,26]],\"date-time\":\"2018-10-26T00:00:00Z\",\"timestamp\":1540512000000},\"delay-in-days\":0,\"content-version\":\"vor\"},{\"URL\":\"http:\\\\/\\\\/creativecommons.org\\\\/licenses\\\\/by\\\\/4.0\\\\/\",\"start\":{\"date-parts\":[[2018,10,26]],\"date-time\":\"2018-10-26T00:00:00Z\",\"timestamp\":1540512000000},\"delay-in-days\":0,\"content-version\":\"am\"},{\"URL\":\"http:\\\\/\\\\/creativecommons.org\\\\/licenses\\\\/by\\\\/4.0\\\\/\",\"start\":{\"date-parts\":[[2018,10,26]],\"date-time\":\"2018-10-26T00:00:00Z\",\"timestamp\":1540512000000},\"delay-in-days\":0,\"content-version\":\"tdm\"}],\"content-domain\":{\"domain\":[],\"crossmark-restriction\":false},\"short-container-title\":[\"JOSS\"],\"published-print\":{\"date-parts\":[[2018,10,26]]},\"DOI\":\"10.21105\\\\/joss.01006\",\"type\":\"journal-article\",\"created\":{\"date-parts\":[[2018,10,26]],\"date-time\":\"2018-10-26T20:04:42Z\",\"timestamp\":1540584282000},\"page\":\"1006\",\"source\":\"Crossref\",\"is-referenced-by-count\":0,\"title\":[\"SeqTools: A python package for easy transformation, combination and evaluation of large datasets.\"],\"prefix\":\"10.21105\",\"volume\":\"3\",\"author\":[{\"ORCID\":\"http:\\\\/\\\\/orcid.org\\\\/0000-0003-2943-9888\",\"authenticated-orcid\":false,\"given\":\"Nicolas\",\"family\":\"Granger\",\"sequence\":\"first\",\"affiliation\":[]},{\"ORCID\":\"http:\\\\/\\\\/orcid.org\\\\/0000-0002-7383-0588\",\"authenticated-orcid\":false,\"given\":\"Moun\\\\u00eem\",\"family\":\"Yacoubi\",\"sequence\":\"additional\",\"affiliation\":[]}],\"member\":\"8722\",\"reference\":[{\"key\":\"ref1\",\"unstructured\":\"TensorFlow: Large-Scale Machine Learning on Heterogeneous Systems, https:\\\\/\\\\/www.tensorflow.org\\\\/, Software available from tensorflow.org, Mart\\\\u0131\\\\u0301n\\\\u00a0Abadi and Ashish\\\\u00a0Agarwal and Paul\\\\u00a0Barham and Eugene\\\\u00a0Brevdo and Zhifeng\\\\u00a0Chen and Craig\\\\u00a0Citro and Greg\\\\u00a0S.\\\\u00a0Corrado and Andy\\\\u00a0Davis and Jeffrey\\\\u00a0Dean and Matthieu\\\\u00a0Devin and Sanjay\\\\u00a0Ghemawat and Ian\\\\u00a0Goodfellow and Andrew\\\\u00a0Harp and Geoffrey\\\\u00a0Irving and Michael\\\\u00a0Isard and Jia, Yangqing and Rafal\\\\u00a0Jozefowicz and Lukasz\\\\u00a0Kaiser and Manjunath\\\\u00a0Kudlur and Josh\\\\u00a0Levenberg and Dandelion\\\\u00a0Man\\\\u00e9 and Rajat\\\\u00a0Monga and Sherry\\\\u00a0Moore and Derek\\\\u00a0Murray and Chris\\\\u00a0Olah and Mike\\\\u00a0Schuster and Jonathon\\\\u00a0Shlens and Benoit\\\\u00a0Steiner and Ilya\\\\u00a0Sutskever and Kunal\\\\u00a0Talwar and Paul\\\\u00a0Tucker and Vincent\\\\u00a0Vanhoucke and Vijay\\\\u00a0Vasudevan and Fernanda\\\\u00a0Vi\\\\u00e9gas and Oriol\\\\u00a0Vinyals and Pete\\\\u00a0Warden and Martin\\\\u00a0Wattenberg and Martin\\\\u00a0Wicke and Yuan\\\\u00a0Yu and Xiaoqiang\\\\u00a0Zheng, 2015\"},{\"key\":\"ref2\",\"unstructured\":\"Automatic differentiation in PyTorch, Paszke, Adam and Gross, Sam and Chintala, Soumith and Chanan, Gregory and Yang, Edward and DeVito, Zachary and Lin, Zeming and Desmaison, Alban and Antiga, Luca and Lerer, Adam, NIPS-W, 2017\"}],\"container-title\":[\"Journal of Open Source Software\"],\"original-title\":[],\"link\":[{\"URL\":\"http:\\\\/\\\\/www.theoj.org\\\\/joss-papers\\\\/joss.01006\\\\/10.21105.joss.01006.pdf\",\"content-type\":\"application\\\\/pdf\",\"content-version\":\"vor\",\"intended-application\":\"text-mining\"}],\"deposited\":{\"date-parts\":[[2019,11,17]],\"date-time\":\"2019-11-17T20:11:23Z\",\"timestamp\":1574021483000},\"score\":1.0,\"subtitle\":[],\"short-title\":[],\"issued\":{\"date-parts\":[[2018,10,26]]},\"references-count\":2,\"journal-issue\":{\"published-online\":{\"date-parts\":[[2018,10]]},\"issue\":\"30\"},\"alternative-id\":[\"10.21105\\\\/joss.01006\"],\"URL\":\"http:\\\\/\\\\/dx.doi.org\\\\/10.21105\\\\/joss.01006\",\"relation\":{\"references\":[{\"id-type\":\"doi\",\"id\":\"https:\\\\/\\\\/doi.org\\\\/10.5281\\\\/zenodo.1472094\",\"asserted-by\":\"subject\"}],\"has-review\":[{\"id-type\":\"uri\",\"id\":\"https:\\\\/\\\\/github.com\\\\/openjournals\\\\/joss-reviews\\\\/issues\\\\/1006\",\"asserted-by\":\"subject\"}],\"cites\":[]},\"ISSN\":[\"2475-9066\"],\"issn-type\":[{\"value\":\"2475-9066\",\"type\":\"electronic\"}]}}'\n",
      "b'{\"status\":\"ok\",\"message-type\":\"work\",\"message-version\":\"1.0.0\",\"message\":{\"indexed\":{\"date-parts\":[[2020,8,1]],\"date-time\":\"2020-08-01T02:45:38Z\",\"timestamp\":1596249938548},\"reference-count\":2,\"publisher\":\"The Open Journal\",\"issue\":\"30\",\"license\":[{\"URL\":\"http:\\\\/\\\\/creativecommons.org\\\\/licenses\\\\/by\\\\/4.0\\\\/\",\"start\":{\"date-parts\":[[2018,10,26]],\"date-time\":\"2018-10-26T00:00:00Z\",\"timestamp\":1540512000000},\"delay-in-days\":0,\"content-version\":\"vor\"},{\"URL\":\"http:\\\\/\\\\/creativecommons.org\\\\/licenses\\\\/by\\\\/4.0\\\\/\",\"start\":{\"date-parts\":[[2018,10,26]],\"date-time\":\"2018-10-26T00:00:00Z\",\"timestamp\":1540512000000},\"delay-in-days\":0,\"content-version\":\"am\"},{\"URL\":\"http:\\\\/\\\\/creativecommons.org\\\\/licenses\\\\/by\\\\/4.0\\\\/\",\"start\":{\"date-parts\":[[2018,10,26]],\"date-time\":\"2018-10-26T00:00:00Z\",\"timestamp\":1540512000000},\"delay-in-days\":0,\"content-version\":\"tdm\"}],\"content-domain\":{\"domain\":[],\"crossmark-restriction\":false},\"short-container-title\":[\"JOSS\"],\"published-print\":{\"date-parts\":[[2018,10,26]]},\"DOI\":\"10.21105\\\\/joss.01006\",\"type\":\"journal-article\",\"created\":{\"date-parts\":[[2018,10,26]],\"date-time\":\"2018-10-26T20:04:42Z\",\"timestamp\":1540584282000},\"page\":\"1006\",\"source\":\"Crossref\",\"is-referenced-by-count\":0,\"title\":[\"SeqTools: A python package for easy transformation, combination and evaluation of large datasets.\"],\"prefix\":\"10.21105\",\"volume\":\"3\",\"author\":[{\"ORCID\":\"http:\\\\/\\\\/orcid.org\\\\/0000-0003-2943-9888\",\"authenticated-orcid\":false,\"given\":\"Nicolas\",\"family\":\"Granger\",\"sequence\":\"first\",\"affiliation\":[]},{\"ORCID\":\"http:\\\\/\\\\/orcid.org\\\\/0000-0002-7383-0588\",\"authenticated-orcid\":false,\"given\":\"Moun\\\\u00eem\",\"family\":\"Yacoubi\",\"sequence\":\"additional\",\"affiliation\":[]}],\"member\":\"8722\",\"reference\":[{\"key\":\"ref1\",\"unstructured\":\"TensorFlow: Large-Scale Machine Learning on Heterogeneous Systems, https:\\\\/\\\\/www.tensorflow.org\\\\/, Software available from tensorflow.org, Mart\\\\u0131\\\\u0301n\\\\u00a0Abadi and Ashish\\\\u00a0Agarwal and Paul\\\\u00a0Barham and Eugene\\\\u00a0Brevdo and Zhifeng\\\\u00a0Chen and Craig\\\\u00a0Citro and Greg\\\\u00a0S.\\\\u00a0Corrado and Andy\\\\u00a0Davis and Jeffrey\\\\u00a0Dean and Matthieu\\\\u00a0Devin and Sanjay\\\\u00a0Ghemawat and Ian\\\\u00a0Goodfellow and Andrew\\\\u00a0Harp and Geoffrey\\\\u00a0Irving and Michael\\\\u00a0Isard and Jia, Yangqing and Rafal\\\\u00a0Jozefowicz and Lukasz\\\\u00a0Kaiser and Manjunath\\\\u00a0Kudlur and Josh\\\\u00a0Levenberg and Dandelion\\\\u00a0Man\\\\u00e9 and Rajat\\\\u00a0Monga and Sherry\\\\u00a0Moore and Derek\\\\u00a0Murray and Chris\\\\u00a0Olah and Mike\\\\u00a0Schuster and Jonathon\\\\u00a0Shlens and Benoit\\\\u00a0Steiner and Ilya\\\\u00a0Sutskever and Kunal\\\\u00a0Talwar and Paul\\\\u00a0Tucker and Vincent\\\\u00a0Vanhoucke and Vijay\\\\u00a0Vasudevan and Fernanda\\\\u00a0Vi\\\\u00e9gas and Oriol\\\\u00a0Vinyals and Pete\\\\u00a0Warden and Martin\\\\u00a0Wattenberg and Martin\\\\u00a0Wicke and Yuan\\\\u00a0Yu and Xiaoqiang\\\\u00a0Zheng, 2015\"},{\"key\":\"ref2\",\"unstructured\":\"Automatic differentiation in PyTorch, Paszke, Adam and Gross, Sam and Chintala, Soumith and Chanan, Gregory and Yang, Edward and DeVito, Zachary and Lin, Zeming and Desmaison, Alban and Antiga, Luca and Lerer, Adam, NIPS-W, 2017\"}],\"container-title\":[\"Journal of Open Source Software\"],\"original-title\":[],\"link\":[{\"URL\":\"http:\\\\/\\\\/www.theoj.org\\\\/joss-papers\\\\/joss.01006\\\\/10.21105.joss.01006.pdf\",\"content-type\":\"application\\\\/pdf\",\"content-version\":\"vor\",\"intended-application\":\"text-mining\"}],\"deposited\":{\"date-parts\":[[2019,11,17]],\"date-time\":\"2019-11-17T20:11:23Z\",\"timestamp\":1574021483000},\"score\":1.0,\"subtitle\":[],\"short-title\":[],\"issued\":{\"date-parts\":[[2018,10,26]]},\"references-count\":2,\"journal-issue\":{\"published-online\":{\"date-parts\":[[2018,10]]},\"issue\":\"30\"},\"alternative-id\":[\"10.21105\\\\/joss.01006\"],\"URL\":\"http:\\\\/\\\\/dx.doi.org\\\\/10.21105\\\\/joss.01006\",\"relation\":{\"references\":[{\"id-type\":\"doi\",\"id\":\"https:\\\\/\\\\/doi.org\\\\/10.5281\\\\/zenodo.1472094\",\"asserted-by\":\"subject\"}],\"has-review\":[{\"id-type\":\"uri\",\"id\":\"https:\\\\/\\\\/github.com\\\\/openjournals\\\\/joss-reviews\\\\/issues\\\\/1006\",\"asserted-by\":\"subject\"}],\"cites\":[]},\"ISSN\":[\"2475-9066\"],\"issn-type\":[{\"value\":\"2475-9066\",\"type\":\"electronic\"}]}}'\n",
      "b'{\"status\":\"ok\",\"message-type\":\"work\",\"message-version\":\"1.0.0\",\"message\":{\"indexed\":{\"date-parts\":[[2020,8,1]],\"date-time\":\"2020-08-01T02:45:38Z\",\"timestamp\":1596249938548},\"reference-count\":2,\"publisher\":\"The Open Journal\",\"issue\":\"30\",\"license\":[{\"URL\":\"http:\\\\/\\\\/creativecommons.org\\\\/licenses\\\\/by\\\\/4.0\\\\/\",\"start\":{\"date-parts\":[[2018,10,26]],\"date-time\":\"2018-10-26T00:00:00Z\",\"timestamp\":1540512000000},\"delay-in-days\":0,\"content-version\":\"vor\"},{\"URL\":\"http:\\\\/\\\\/creativecommons.org\\\\/licenses\\\\/by\\\\/4.0\\\\/\",\"start\":{\"date-parts\":[[2018,10,26]],\"date-time\":\"2018-10-26T00:00:00Z\",\"timestamp\":1540512000000},\"delay-in-days\":0,\"content-version\":\"am\"},{\"URL\":\"http:\\\\/\\\\/creativecommons.org\\\\/licenses\\\\/by\\\\/4.0\\\\/\",\"start\":{\"date-parts\":[[2018,10,26]],\"date-time\":\"2018-10-26T00:00:00Z\",\"timestamp\":1540512000000},\"delay-in-days\":0,\"content-version\":\"tdm\"}],\"content-domain\":{\"domain\":[],\"crossmark-restriction\":false},\"short-container-title\":[\"JOSS\"],\"published-print\":{\"date-parts\":[[2018,10,26]]},\"DOI\":\"10.21105\\\\/joss.01006\",\"type\":\"journal-article\",\"created\":{\"date-parts\":[[2018,10,26]],\"date-time\":\"2018-10-26T20:04:42Z\",\"timestamp\":1540584282000},\"page\":\"1006\",\"source\":\"Crossref\",\"is-referenced-by-count\":0,\"title\":[\"SeqTools: A python package for easy transformation, combination and evaluation of large datasets.\"],\"prefix\":\"10.21105\",\"volume\":\"3\",\"author\":[{\"ORCID\":\"http:\\\\/\\\\/orcid.org\\\\/0000-0003-2943-9888\",\"authenticated-orcid\":false,\"given\":\"Nicolas\",\"family\":\"Granger\",\"sequence\":\"first\",\"affiliation\":[]},{\"ORCID\":\"http:\\\\/\\\\/orcid.org\\\\/0000-0002-7383-0588\",\"authenticated-orcid\":false,\"given\":\"Moun\\\\u00eem\",\"family\":\"Yacoubi\",\"sequence\":\"additional\",\"affiliation\":[]}],\"member\":\"8722\",\"reference\":[{\"key\":\"ref1\",\"unstructured\":\"TensorFlow: Large-Scale Machine Learning on Heterogeneous Systems, https:\\\\/\\\\/www.tensorflow.org\\\\/, Software available from tensorflow.org, Mart\\\\u0131\\\\u0301n\\\\u00a0Abadi and Ashish\\\\u00a0Agarwal and Paul\\\\u00a0Barham and Eugene\\\\u00a0Brevdo and Zhifeng\\\\u00a0Chen and Craig\\\\u00a0Citro and Greg\\\\u00a0S.\\\\u00a0Corrado and Andy\\\\u00a0Davis and Jeffrey\\\\u00a0Dean and Matthieu\\\\u00a0Devin and Sanjay\\\\u00a0Ghemawat and Ian\\\\u00a0Goodfellow and Andrew\\\\u00a0Harp and Geoffrey\\\\u00a0Irving and Michael\\\\u00a0Isard and Jia, Yangqing and Rafal\\\\u00a0Jozefowicz and Lukasz\\\\u00a0Kaiser and Manjunath\\\\u00a0Kudlur and Josh\\\\u00a0Levenberg and Dandelion\\\\u00a0Man\\\\u00e9 and Rajat\\\\u00a0Monga and Sherry\\\\u00a0Moore and Derek\\\\u00a0Murray and Chris\\\\u00a0Olah and Mike\\\\u00a0Schuster and Jonathon\\\\u00a0Shlens and Benoit\\\\u00a0Steiner and Ilya\\\\u00a0Sutskever and Kunal\\\\u00a0Talwar and Paul\\\\u00a0Tucker and Vincent\\\\u00a0Vanhoucke and Vijay\\\\u00a0Vasudevan and Fernanda\\\\u00a0Vi\\\\u00e9gas and Oriol\\\\u00a0Vinyals and Pete\\\\u00a0Warden and Martin\\\\u00a0Wattenberg and Martin\\\\u00a0Wicke and Yuan\\\\u00a0Yu and Xiaoqiang\\\\u00a0Zheng, 2015\"},{\"key\":\"ref2\",\"unstructured\":\"Automatic differentiation in PyTorch, Paszke, Adam and Gross, Sam and Chintala, Soumith and Chanan, Gregory and Yang, Edward and DeVito, Zachary and Lin, Zeming and Desmaison, Alban and Antiga, Luca and Lerer, Adam, NIPS-W, 2017\"}],\"container-title\":[\"Journal of Open Source Software\"],\"original-title\":[],\"link\":[{\"URL\":\"http:\\\\/\\\\/www.theoj.org\\\\/joss-papers\\\\/joss.01006\\\\/10.21105.joss.01006.pdf\",\"content-type\":\"application\\\\/pdf\",\"content-version\":\"vor\",\"intended-application\":\"text-mining\"}],\"deposited\":{\"date-parts\":[[2019,11,17]],\"date-time\":\"2019-11-17T20:11:23Z\",\"timestamp\":1574021483000},\"score\":1.0,\"subtitle\":[],\"short-title\":[],\"issued\":{\"date-parts\":[[2018,10,26]]},\"references-count\":2,\"journal-issue\":{\"published-online\":{\"date-parts\":[[2018,10]]},\"issue\":\"30\"},\"alternative-id\":[\"10.21105\\\\/joss.01006\"],\"URL\":\"http:\\\\/\\\\/dx.doi.org\\\\/10.21105\\\\/joss.01006\",\"relation\":{\"references\":[{\"id-type\":\"doi\",\"id\":\"https:\\\\/\\\\/doi.org\\\\/10.5281\\\\/zenodo.1472094\",\"asserted-by\":\"subject\"}],\"has-review\":[{\"id-type\":\"uri\",\"id\":\"https:\\\\/\\\\/github.com\\\\/openjournals\\\\/joss-reviews\\\\/issues\\\\/1006\",\"asserted-by\":\"subject\"}],\"cites\":[]},\"ISSN\":[\"2475-9066\"],\"issn-type\":[{\"value\":\"2475-9066\",\"type\":\"electronic\"}]}}'\n",
      "b'{\"status\":\"ok\",\"message-type\":\"work\",\"message-version\":\"1.0.0\",\"message\":{\"indexed\":{\"date-parts\":[[2020,8,1]],\"date-time\":\"2020-08-01T02:45:38Z\",\"timestamp\":1596249938548},\"reference-count\":2,\"publisher\":\"The Open Journal\",\"issue\":\"30\",\"license\":[{\"URL\":\"http:\\\\/\\\\/creativecommons.org\\\\/licenses\\\\/by\\\\/4.0\\\\/\",\"start\":{\"date-parts\":[[2018,10,26]],\"date-time\":\"2018-10-26T00:00:00Z\",\"timestamp\":1540512000000},\"delay-in-days\":0,\"content-version\":\"vor\"},{\"URL\":\"http:\\\\/\\\\/creativecommons.org\\\\/licenses\\\\/by\\\\/4.0\\\\/\",\"start\":{\"date-parts\":[[2018,10,26]],\"date-time\":\"2018-10-26T00:00:00Z\",\"timestamp\":1540512000000},\"delay-in-days\":0,\"content-version\":\"am\"},{\"URL\":\"http:\\\\/\\\\/creativecommons.org\\\\/licenses\\\\/by\\\\/4.0\\\\/\",\"start\":{\"date-parts\":[[2018,10,26]],\"date-time\":\"2018-10-26T00:00:00Z\",\"timestamp\":1540512000000},\"delay-in-days\":0,\"content-version\":\"tdm\"}],\"content-domain\":{\"domain\":[],\"crossmark-restriction\":false},\"short-container-title\":[\"JOSS\"],\"published-print\":{\"date-parts\":[[2018,10,26]]},\"DOI\":\"10.21105\\\\/joss.01006\",\"type\":\"journal-article\",\"created\":{\"date-parts\":[[2018,10,26]],\"date-time\":\"2018-10-26T20:04:42Z\",\"timestamp\":1540584282000},\"page\":\"1006\",\"source\":\"Crossref\",\"is-referenced-by-count\":0,\"title\":[\"SeqTools: A python package for easy transformation, combination and evaluation of large datasets.\"],\"prefix\":\"10.21105\",\"volume\":\"3\",\"author\":[{\"ORCID\":\"http:\\\\/\\\\/orcid.org\\\\/0000-0003-2943-9888\",\"authenticated-orcid\":false,\"given\":\"Nicolas\",\"family\":\"Granger\",\"sequence\":\"first\",\"affiliation\":[]},{\"ORCID\":\"http:\\\\/\\\\/orcid.org\\\\/0000-0002-7383-0588\",\"authenticated-orcid\":false,\"given\":\"Moun\\\\u00eem\",\"family\":\"Yacoubi\",\"sequence\":\"additional\",\"affiliation\":[]}],\"member\":\"8722\",\"reference\":[{\"key\":\"ref1\",\"unstructured\":\"TensorFlow: Large-Scale Machine Learning on Heterogeneous Systems, https:\\\\/\\\\/www.tensorflow.org\\\\/, Software available from tensorflow.org, Mart\\\\u0131\\\\u0301n\\\\u00a0Abadi and Ashish\\\\u00a0Agarwal and Paul\\\\u00a0Barham and Eugene\\\\u00a0Brevdo and Zhifeng\\\\u00a0Chen and Craig\\\\u00a0Citro and Greg\\\\u00a0S.\\\\u00a0Corrado and Andy\\\\u00a0Davis and Jeffrey\\\\u00a0Dean and Matthieu\\\\u00a0Devin and Sanjay\\\\u00a0Ghemawat and Ian\\\\u00a0Goodfellow and Andrew\\\\u00a0Harp and Geoffrey\\\\u00a0Irving and Michael\\\\u00a0Isard and Jia, Yangqing and Rafal\\\\u00a0Jozefowicz and Lukasz\\\\u00a0Kaiser and Manjunath\\\\u00a0Kudlur and Josh\\\\u00a0Levenberg and Dandelion\\\\u00a0Man\\\\u00e9 and Rajat\\\\u00a0Monga and Sherry\\\\u00a0Moore and Derek\\\\u00a0Murray and Chris\\\\u00a0Olah and Mike\\\\u00a0Schuster and Jonathon\\\\u00a0Shlens and Benoit\\\\u00a0Steiner and Ilya\\\\u00a0Sutskever and Kunal\\\\u00a0Talwar and Paul\\\\u00a0Tucker and Vincent\\\\u00a0Vanhoucke and Vijay\\\\u00a0Vasudevan and Fernanda\\\\u00a0Vi\\\\u00e9gas and Oriol\\\\u00a0Vinyals and Pete\\\\u00a0Warden and Martin\\\\u00a0Wattenberg and Martin\\\\u00a0Wicke and Yuan\\\\u00a0Yu and Xiaoqiang\\\\u00a0Zheng, 2015\"},{\"key\":\"ref2\",\"unstructured\":\"Automatic differentiation in PyTorch, Paszke, Adam and Gross, Sam and Chintala, Soumith and Chanan, Gregory and Yang, Edward and DeVito, Zachary and Lin, Zeming and Desmaison, Alban and Antiga, Luca and Lerer, Adam, NIPS-W, 2017\"}],\"container-title\":[\"Journal of Open Source Software\"],\"original-title\":[],\"link\":[{\"URL\":\"http:\\\\/\\\\/www.theoj.org\\\\/joss-papers\\\\/joss.01006\\\\/10.21105.joss.01006.pdf\",\"content-type\":\"application\\\\/pdf\",\"content-version\":\"vor\",\"intended-application\":\"text-mining\"}],\"deposited\":{\"date-parts\":[[2019,11,17]],\"date-time\":\"2019-11-17T20:11:23Z\",\"timestamp\":1574021483000},\"score\":1.0,\"subtitle\":[],\"short-title\":[],\"issued\":{\"date-parts\":[[2018,10,26]]},\"references-count\":2,\"journal-issue\":{\"published-online\":{\"date-parts\":[[2018,10]]},\"issue\":\"30\"},\"alternative-id\":[\"10.21105\\\\/joss.01006\"],\"URL\":\"http:\\\\/\\\\/dx.doi.org\\\\/10.21105\\\\/joss.01006\",\"relation\":{\"references\":[{\"id-type\":\"doi\",\"id\":\"https:\\\\/\\\\/doi.org\\\\/10.5281\\\\/zenodo.1472094\",\"asserted-by\":\"subject\"}],\"has-review\":[{\"id-type\":\"uri\",\"id\":\"https:\\\\/\\\\/github.com\\\\/openjournals\\\\/joss-reviews\\\\/issues\\\\/1006\",\"asserted-by\":\"subject\"}],\"cites\":[]},\"ISSN\":[\"2475-9066\"],\"issn-type\":[{\"value\":\"2475-9066\",\"type\":\"electronic\"}]}}'\n"
     ]
    }
   ],
   "source": [
    "for doi in dois:\n",
    "    print(doi_json_data)"
   ]
  },
  {
   "cell_type": "code",
   "execution_count": 12,
   "metadata": {},
   "outputs": [],
   "source": [
    "for doi in dois: \n",
    "    doi_data = json.loads(doi_json_data)"
   ]
  },
  {
   "cell_type": "code",
   "execution_count": 13,
   "metadata": {},
   "outputs": [],
   "source": [
    "for doi in dois: \n",
    "    doi_data.keys()"
   ]
  },
  {
   "cell_type": "code",
   "execution_count": 14,
   "metadata": {},
   "outputs": [],
   "source": [
    "for doi in dois:\n",
    "    doi_data[\"message\"].keys()"
   ]
  },
  {
   "cell_type": "code",
   "execution_count": null,
   "metadata": {},
   "outputs": [],
   "source": [
    "doi_data[\"message\"].keys()"
   ]
  },
  {
   "cell_type": "code",
   "execution_count": null,
   "metadata": {},
   "outputs": [],
   "source": []
  }
 ],
 "metadata": {
  "kernelspec": {
   "display_name": "Python 3",
   "language": "python",
   "name": "python3"
  },
  "language_info": {
   "codemirror_mode": {
    "name": "ipython",
    "version": 3
   },
   "file_extension": ".py",
   "mimetype": "text/x-python",
   "name": "python",
   "nbconvert_exporter": "python",
   "pygments_lexer": "ipython3",
   "version": "3.8.3"
  }
 },
 "nbformat": 4,
 "nbformat_minor": 4
}
